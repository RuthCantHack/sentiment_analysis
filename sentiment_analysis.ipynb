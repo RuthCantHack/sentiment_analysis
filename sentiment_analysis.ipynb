{
 "cells": [
  {
   "cell_type": "code",
   "execution_count": 1,
   "id": "039e8827-8ac4-4176-8e3a-8435fb2b3ce9",
   "metadata": {},
   "outputs": [],
   "source": [
    "!pip install --quiet streamlit nltk"
   ]
  },
  {
   "cell_type": "code",
   "execution_count": 2,
   "id": "16edae56-8df8-4f87-a587-48693a69b661",
   "metadata": {},
   "outputs": [
    {
     "name": "stdout",
     "output_type": "stream",
     "text": [
      "✅ Wrote app.py\n"
     ]
    }
   ],
   "source": [
    "code = r\"\"\"\n",
    "import streamlit as st\n",
    "st.set_page_config(page_title=\"Simple Chat\", page_icon=\"💬\")  # must be first Streamlit call\n",
    "\n",
    "import re\n",
    "import nltk\n",
    "from nltk.sentiment import SentimentIntensityAnalyzer\n",
    "\n",
    "# Ensure VADER lexicon is available (downloads once)\n",
    "try:\n",
    "    nltk.data.find(\"sentiment/vader_lexicon.zip\")\n",
    "except LookupError:\n",
    "    nltk.download(\"vader_lexicon\")\n",
    "\n",
    "sia = SentimentIntensityAnalyzer()\n",
    "\n",
    "# --- Settings (change if you want) ---\n",
    "WARN_AT = 3   # warn on 3rd repeat\n",
    "BAN_AT  = 5   # ban on 5th repeat (total)\n",
    "\n",
    "# --- Session State ---\n",
    "if \"messages\" not in st.session_state:\n",
    "    st.session_state.messages = []        # list of dicts: {\"role\",\"text\",\"sentiment\",\"compound\"}\n",
    "if \"counts\" not in st.session_state:\n",
    "    st.session_state.counts = {}          # normalized_text -> count\n",
    "if \"banned\" not in st.session_state:\n",
    "    st.session_state.banned = False\n",
    "\n",
    "def normalize(t: str) -> str:\n",
    "    t = t.lower().strip()\n",
    "    t = re.sub(r\"\\s+\", \" \", t)\n",
    "    return t\n",
    "\n",
    "def label_from_compound(c: float) -> str:\n",
    "    if c >= 0.05:\n",
    "        return \"Positive\"\n",
    "    elif c <= -0.05:\n",
    "        return \"Negative\"\n",
    "    return \"Neutral\"\n",
    "\n",
    "st.title(\"💬 Simple Chat (Sentiment + Repeat Guard)\")\n",
    "\n",
    "# --- Show chat history ---\n",
    "for m in st.session_state.messages:\n",
    "    with st.chat_message(m[\"role\"]):\n",
    "        st.markdown(m[\"text\"])\n",
    "        if m.get(\"sentiment\") is not None:\n",
    "            st.caption(f\"Sentiment: **{m['sentiment']}** (compound {m['compound']:+.3f})\")\n",
    "\n",
    "# --- Input ---\n",
    "prompt = st.chat_input(\"Type a message…\", disabled=st.session_state.banned)\n",
    "\n",
    "if prompt:\n",
    "    # Sentiment\n",
    "    scores = sia.polarity_scores(prompt)\n",
    "    comp = scores[\"compound\"]\n",
    "    sentiment = label_from_compound(comp)\n",
    "\n",
    "    # Store user's message\n",
    "    st.session_state.messages.append({\n",
    "        \"role\": \"user\",\n",
    "        \"text\": prompt,\n",
    "        \"sentiment\": sentiment,\n",
    "        \"compound\": comp\n",
    "    })\n",
    "\n",
    "    # Repeat check\n",
    "    key = normalize(prompt)\n",
    "    st.session_state.counts[key] = st.session_state.counts.get(key, 0) + 1\n",
    "    c = st.session_state.counts[key]\n",
    "\n",
    "    if c == WARN_AT:\n",
    "        st.session_state.messages.append({\n",
    "            \"role\": \"assistant\",\n",
    "            \"text\": f\"⚠️ Warning: you've repeated the same message {c} times.\"\n",
    "        })\n",
    "\n",
    "    if c >= BAN_AT and not st.session_state.banned:\n",
    "        st.session_state.banned = True\n",
    "        st.session_state.messages.append({\n",
    "            \"role\": \"assistant\",\n",
    "            \"text\": f\"🚫 You are banned for repeating the same message {c} times.\"\n",
    "        })\n",
    "\n",
    "    st.rerun()\n",
    "\"\"\"\n",
    "with open(\"app.py\", \"w\", encoding=\"utf-8\") as f:\n",
    "    f.write(code)\n",
    "print(\"✅ Wrote app.py\")\n"
   ]
  },
  {
   "cell_type": "code",
   "execution_count": null,
   "id": "91ec774a-b70b-4cb4-ac26-af96f3e7f564",
   "metadata": {},
   "outputs": [],
   "source": []
  }
 ],
 "metadata": {
  "kernelspec": {
   "display_name": "Python 3 (ipykernel)",
   "language": "python",
   "name": "python3"
  },
  "language_info": {
   "codemirror_mode": {
    "name": "ipython",
    "version": 3
   },
   "file_extension": ".py",
   "mimetype": "text/x-python",
   "name": "python",
   "nbconvert_exporter": "python",
   "pygments_lexer": "ipython3",
   "version": "3.13.5"
  }
 },
 "nbformat": 4,
 "nbformat_minor": 5
}
